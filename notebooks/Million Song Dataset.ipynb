{
 "cells": [
  {
   "cell_type": "markdown",
   "metadata": {},
   "source": [
    "# Getting Features from Million Song Dataset (MSD)"
   ]
  },
  {
   "cell_type": "code",
   "execution_count": 1,
   "metadata": {
    "collapsed": true
   },
   "outputs": [],
   "source": [
    "# Import libraries\n",
    "import os\n",
    "import sys\n",
    "import time\n",
    "import glob\n",
    "import datetime\n",
    "import sqlite3\n",
    "import numpy as np\n",
    "import pandas as pd\n",
    "import hdf5_getters as GETTERS"
   ]
  },
  {
   "cell_type": "code",
   "execution_count": 2,
   "metadata": {
    "collapsed": true
   },
   "outputs": [],
   "source": [
    "# local paths\n",
    "\n",
    "# where data is from\n",
    "msd_path= '/Volumes/Seagate Backup Plus Drive/MSD Data'\n",
    "msd_addf_path=os.path.join(msd_path,'AdditionalFiles')\n",
    "assert os.path.isdir(msd_path),'wrong path' # sanity check\n",
    "\n",
    "# where data will be saved to\n",
    "data_folder = \"/Users/dannynightingale/Documents/Harvard 2017-2018/Harvard 2017-2018 Fall/CS 109a/Spotify Final Project/data/\""
   ]
  },
  {
   "cell_type": "code",
   "execution_count": 10,
   "metadata": {
    "collapsed": true
   },
   "outputs": [],
   "source": [
    "# the following function simply gives us a nice string for\n",
    "# a time lag in seconds\n",
    "def strtimedelta(starttime,stoptime):\n",
    "    return str(datetime.timedelta(seconds=stoptime-starttime))\n",
    "\n",
    "# we define this very useful function to iterate the files\n",
    "def apply_to_all_files(basedir,func=lambda x: x,ext='.h5'):\n",
    "    \"\"\"\n",
    "    From a base directory, go through all subdirectories,\n",
    "    find all files with the given extension, apply the\n",
    "    given function 'func' to all of them.\n",
    "    If no 'func' is passed, we do nothing except counting.\n",
    "    INPUT\n",
    "       basedir  - base directory of the dataset\n",
    "       func     - function to apply to all filenames\n",
    "       ext      - extension, .h5 by default\n",
    "    RETURN\n",
    "       number of files\n",
    "    \"\"\"\n",
    "    cnt = 0\n",
    "    # iterate over all files in all subdirectories\n",
    "    for root, dirs, files in os.walk(basedir):\n",
    "        files = glob.glob(os.path.join(root,'*'+ext))\n",
    "        # count files\n",
    "        cnt += len(files)\n",
    "        # apply function to all files\n",
    "        for f in files :\n",
    "            func(f)\n",
    "    return cnt"
   ]
  },
  {
   "cell_type": "code",
   "execution_count": null,
   "metadata": {},
   "outputs": [],
   "source": [
    "# get the metadata\n",
    "conn = sqlite3.connect(os.path.join(msd_addf_path,\n",
    "                                    'track_metadata.db'))\n",
    "\n",
    "# we build the SQL query\n",
    "q = \"SELECT * FROM songs\"\n",
    "res = conn.execute(q)\n",
    "\n",
    "# get the data\n",
    "MSD_meta_data = res.fetchall()\n",
    "\n",
    "# we close the connection to the database\n",
    "conn.close()"
   ]
  },
  {
   "cell_type": "code",
   "execution_count": 28,
   "metadata": {},
   "outputs": [],
   "source": [
    "MSD = pd.DataFrame(MSD_meta_data, columns=['id1', 'song', 'id2', 'album', 'id3', 'id4', 'artist', 'length', 'dk', 'artist_hotness', 'release_year'])\n",
    "for i in ['id1', 'id2', 'id3', 'id4', 'dk']:\n",
    "    del MSD[i]"
   ]
  },
  {
   "cell_type": "code",
   "execution_count": 29,
   "metadata": {},
   "outputs": [
    {
     "data": {
      "text/html": [
       "<div>\n",
       "<style>\n",
       "    .dataframe thead tr:only-child th {\n",
       "        text-align: right;\n",
       "    }\n",
       "\n",
       "    .dataframe thead th {\n",
       "        text-align: left;\n",
       "    }\n",
       "\n",
       "    .dataframe tbody tr th {\n",
       "        vertical-align: top;\n",
       "    }\n",
       "</style>\n",
       "<table border=\"1\" class=\"dataframe\">\n",
       "  <thead>\n",
       "    <tr style=\"text-align: right;\">\n",
       "      <th></th>\n",
       "      <th>song</th>\n",
       "      <th>album</th>\n",
       "      <th>artist</th>\n",
       "      <th>length</th>\n",
       "      <th>artist_hotness</th>\n",
       "      <th>release_year</th>\n",
       "    </tr>\n",
       "  </thead>\n",
       "  <tbody>\n",
       "    <tr>\n",
       "      <th>0</th>\n",
       "      <td>Silent Night</td>\n",
       "      <td>Monster Ballads X-Mas</td>\n",
       "      <td>Faster Pussy cat</td>\n",
       "      <td>252.05506</td>\n",
       "      <td>0.394032</td>\n",
       "      <td>2003</td>\n",
       "    </tr>\n",
       "    <tr>\n",
       "      <th>1</th>\n",
       "      <td>Tanssi vaan</td>\n",
       "      <td>Karkuteillä</td>\n",
       "      <td>Karkkiautomaatti</td>\n",
       "      <td>156.55138</td>\n",
       "      <td>0.356992</td>\n",
       "      <td>1995</td>\n",
       "    </tr>\n",
       "    <tr>\n",
       "      <th>2</th>\n",
       "      <td>No One Could Ever</td>\n",
       "      <td>Butter</td>\n",
       "      <td>Hudson Mohawke</td>\n",
       "      <td>138.97098</td>\n",
       "      <td>0.437504</td>\n",
       "      <td>2006</td>\n",
       "    </tr>\n",
       "    <tr>\n",
       "      <th>3</th>\n",
       "      <td>Si Vos Querés</td>\n",
       "      <td>De Culo</td>\n",
       "      <td>Yerba Brava</td>\n",
       "      <td>145.05751</td>\n",
       "      <td>0.372349</td>\n",
       "      <td>2003</td>\n",
       "    </tr>\n",
       "    <tr>\n",
       "      <th>4</th>\n",
       "      <td>Tangle Of Aspens</td>\n",
       "      <td>Rene Ablaze Presents Winter Sessions</td>\n",
       "      <td>Der Mystic</td>\n",
       "      <td>514.29832</td>\n",
       "      <td>0.000000</td>\n",
       "      <td>0</td>\n",
       "    </tr>\n",
       "  </tbody>\n",
       "</table>\n",
       "</div>"
      ],
      "text/plain": [
       "                song                                 album            artist  \\\n",
       "0       Silent Night                 Monster Ballads X-Mas  Faster Pussy cat   \n",
       "1        Tanssi vaan                           Karkuteillä  Karkkiautomaatti   \n",
       "2  No One Could Ever                                Butter    Hudson Mohawke   \n",
       "3      Si Vos Querés                               De Culo       Yerba Brava   \n",
       "4   Tangle Of Aspens  Rene Ablaze Presents Winter Sessions        Der Mystic   \n",
       "\n",
       "      length  artist_hotness  release_year  \n",
       "0  252.05506        0.394032          2003  \n",
       "1  156.55138        0.356992          1995  \n",
       "2  138.97098        0.437504          2006  \n",
       "3  145.05751        0.372349          2003  \n",
       "4  514.29832        0.000000             0  "
      ]
     },
     "execution_count": 29,
     "metadata": {},
     "output_type": "execute_result"
    }
   ],
   "source": [
    "MSD.head()"
   ]
  },
  {
   "cell_type": "code",
   "execution_count": 30,
   "metadata": {
    "collapsed": true
   },
   "outputs": [],
   "source": [
    "MSD.to_pickle(data_folder + \"MSD_data\")"
   ]
  },
  {
   "cell_type": "markdown",
   "metadata": {},
   "source": [
    "# The rest of the code took too long to run (as the dataset is way too massive). Did not use these extra features. "
   ]
  },
  {
   "cell_type": "code",
   "execution_count": 23,
   "metadata": {
    "scrolled": true
   },
   "outputs": [],
   "source": [
    "# get additional features \n",
    "song_hotnesss = {}\n",
    "danceability = {}\n",
    "energys = {}\n",
    "\n",
    "# we define the function to apply to all files\n",
    "def func_to_get_data(filename):\n",
    "\n",
    "    h5 = GETTERS.open_h5_file_read(filename)\n",
    "    \n",
    "    song_id = GETTERS.get_song_id(h5)\n",
    "    song_hotness = GETTERS.get_song_hotttnesss(h5)\n",
    "    dance = GETTERS.get_danceability(h5)\n",
    "    energy = GETTERS.get_energy(h5)\n",
    "    \n",
    "    song_hotnesss[song_id] = song_hotness\n",
    "    danceability[song_id] = dance\n",
    "    energys[song_id] = energy\n",
    "    \n",
    "    h5.close()  "
   ]
  },
  {
   "cell_type": "code",
   "execution_count": null,
   "metadata": {},
   "outputs": [],
   "source": [
    "# run the function to get data! iterate through files\n",
    "file_names = ['I', 'J', 'K', 'L', 'O']\n",
    "for name in (file_names):\n",
    "    \n",
    "    print(name)\n",
    "    msd_data_path = os.path.join(msd_path,name)\n",
    "    \n",
    "    t1 = time.time()\n",
    "    apply_to_all_files(msd_data_path,func=func_to_get_data)\n",
    "    t2 = time.time()\n",
    "    print('all info extracted in:',strtimedelta(t1,t2))  "
   ]
  },
  {
   "cell_type": "code",
   "execution_count": null,
   "metadata": {
    "collapsed": true
   },
   "outputs": [],
   "source": []
  }
 ],
 "metadata": {
  "kernelspec": {
   "display_name": "Python 3",
   "language": "python",
   "name": "python3"
  },
  "language_info": {
   "codemirror_mode": {
    "name": "ipython",
    "version": 3
   },
   "file_extension": ".py",
   "mimetype": "text/x-python",
   "name": "python",
   "nbconvert_exporter": "python",
   "pygments_lexer": "ipython3",
   "version": "3.6.1"
  }
 },
 "nbformat": 4,
 "nbformat_minor": 2
}
